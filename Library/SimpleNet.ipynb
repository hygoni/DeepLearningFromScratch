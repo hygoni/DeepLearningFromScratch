{
 "cells": [
  {
   "cell_type": "code",
   "execution_count": 3,
   "metadata": {},
   "outputs": [],
   "source": [
    "import numpy as np\n",
    "from ipynb.fs.full.cost_function import *\n",
    "from ipynb.fs.full.activation_function import *\n",
    "\n",
    "class SimpleNet:\n",
    "    def __init__(self):\n",
    "        self.W = np.random.randn(2, 3)\n",
    "    def predict(self, x):\n",
    "        return np.dot(x, self.W)\n",
    "    def loss(self, x, t):\n",
    "        y = self.predict(x)\n",
    "        y = softmax(y)\n",
    "        return cross_entropy_error(y, t)\n"
   ]
  },
  {
   "cell_type": "code",
   "execution_count": 13,
   "metadata": {},
   "outputs": [],
   "source": [
    "if __name__ == '__main__':\n",
    "    s = SimpleNet()\n",
    "    s.predict(np.array([[3,2],[3,2], [3,2]]))\n",
    "\n",
    "    t = np.array([[ 3.06208203, -0.52660129, -1.74765807],\n",
    "           [ 3.06208203, -0.52660129, -1.74765807],\n",
    "           [ 3.06208203, -0.52660129, -1.74765807]])\n",
    "    x = np.array([[3,2],[3,2], [3,2]])"
   ]
  },
  {
   "cell_type": "code",
   "execution_count": 14,
   "metadata": {
    "scrolled": true
   },
   "outputs": [
    {
     "data": {
      "text/plain": [
       "9.891801653682084"
      ]
     },
     "execution_count": 14,
     "metadata": {},
     "output_type": "execute_result"
    }
   ],
   "source": [
    "s.loss(x, t)"
   ]
  },
  {
   "cell_type": "code",
   "execution_count": 15,
   "metadata": {},
   "outputs": [
    {
     "name": "stdout",
     "output_type": "stream",
     "text": [
      "[[0. 0. 0.]\n",
      " [0. 0. 0.]]\n"
     ]
    }
   ],
   "source": [
    "if __name__ == '__main__':\n",
    "    x = np.array([0.6, 0.1])\n",
    "    t = np.array([0, 0, 1])\n",
    "\n",
    "    net = SimpleNet()\n",
    "\n",
    "    f = lambda w: net.loss(x, t)\n",
    "    dL_by_dW = numerical_gradient(f, net.W)\n",
    "    print(dL_by_dW) #Gradient of array of weights"
   ]
  },
  {
   "cell_type": "code",
   "execution_count": null,
   "metadata": {},
   "outputs": [],
   "source": []
  }
 ],
 "metadata": {
  "kernelspec": {
   "display_name": "Python 3",
   "language": "python",
   "name": "python3"
  },
  "language_info": {
   "codemirror_mode": {
    "name": "ipython",
    "version": 3
   },
   "file_extension": ".py",
   "mimetype": "text/x-python",
   "name": "python",
   "nbconvert_exporter": "python",
   "pygments_lexer": "ipython3",
   "version": "3.6.8"
  }
 },
 "nbformat": 4,
 "nbformat_minor": 2
}
