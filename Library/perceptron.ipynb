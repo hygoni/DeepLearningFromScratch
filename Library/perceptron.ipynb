{
 "cells": [
  {
   "cell_type": "code",
   "execution_count": 6,
   "metadata": {},
   "outputs": [],
   "source": [
    "def test(func):\n",
    "    print('=='*18)\n",
    "    print(func)\n",
    "    print('(0,0) : {}'.format(func(0,0)))\n",
    "    print('(0,1) : {}'.format(func(0,1)))\n",
    "    print('(1,0) : {}'.format(func(1,0)))\n",
    "    print('(1,1) : {}'.format(func(1,1)))\n",
    "    print('=='*18)\n",
    "\n",
    "def perceptron(xArray, wArray, theta):\n",
    "    tmp = np.sum(xArray*wArray)\n",
    "    if tmp <= theta:\n",
    "        return 0\n",
    "    else:\n",
    "        return 1\n",
    "def perceptron_bias(xArray, wArray, bias):\n",
    "    tmp = np.sum(xArray*wArray) + bias\n",
    "    if tmp <= 0:\n",
    "        return 0\n",
    "    else:\n",
    "        return 1\n",
    "\n",
    "def AND(x1, x2):\n",
    "    inputs = np.array([x1, x2])\n",
    "    weights = np.array([0.5, 0.5])\n",
    "    theta = 0.7\n",
    "    return perceptron(inputs, weights, theta)\n",
    "\n",
    "def AND2(x1, x2):\n",
    "    inputs = np.array([x1, x2])\n",
    "    weights = np.array([0.5, 0.5])\n",
    "    bias = -0.7\n",
    "    return perceptron_bias(inputs, weights, bias)\n",
    "\n",
    "def OR(x1, x2):\n",
    "    inputs = np.array([x1, x2])\n",
    "    weights = np.array([0.5, 0.5])\n",
    "    bias = -0.2\n",
    "    return perceptron_bias(inputs, weights, bias)\n",
    "\n",
    "def NAND(x1, x2):\n",
    "    inputs = np.array([x1, x2])\n",
    "    weights = np.array([-0.5, -0.5])\n",
    "    bias = 0.7\n",
    "    return perceptron_bias(inputs, weights, bias)\n",
    "\n",
    "def XOR(x1, x2):\n",
    "    return AND(NAND(x1, x2), OR(x1, x2))"
   ]
  },
  {
   "cell_type": "code",
   "execution_count": 7,
   "metadata": {},
   "outputs": [
    {
     "name": "stdout",
     "output_type": "stream",
     "text": [
      "====================================\n",
      "<function AND at 0x7fe2ace96c80>\n",
      "(0,0) : 0\n",
      "(0,1) : 0\n",
      "(1,0) : 0\n",
      "(1,1) : 1\n",
      "====================================\n",
      "====================================\n",
      "<function AND2 at 0x7fe2acb292f0>\n",
      "(0,0) : 0\n",
      "(0,1) : 0\n",
      "(1,0) : 0\n",
      "(1,1) : 1\n",
      "====================================\n",
      "====================================\n",
      "<function OR at 0x7fe2bc21ed08>\n",
      "(0,0) : 0\n",
      "(0,1) : 1\n",
      "(1,0) : 1\n",
      "(1,1) : 1\n",
      "====================================\n",
      "====================================\n",
      "<function NAND at 0x7fe2aca8dae8>\n",
      "(0,0) : 1\n",
      "(0,1) : 1\n",
      "(1,0) : 1\n",
      "(1,1) : 0\n",
      "====================================\n",
      "====================================\n",
      "<function XOR at 0x7fe2aca8db70>\n",
      "(0,0) : 0\n",
      "(0,1) : 1\n",
      "(1,0) : 1\n",
      "(1,1) : 0\n",
      "====================================\n"
     ]
    }
   ],
   "source": [
    "if __name__ == '__main__':\n",
    "    test(AND)\n",
    "    test(AND2)\n",
    "    test(OR)\n",
    "    test(NAND)\n",
    "    test(XOR)"
   ]
  }
 ],
 "metadata": {
  "kernelspec": {
   "display_name": "Python 3",
   "language": "python",
   "name": "python3"
  },
  "language_info": {
   "codemirror_mode": {
    "name": "ipython",
    "version": 3
   },
   "file_extension": ".py",
   "mimetype": "text/x-python",
   "name": "python",
   "nbconvert_exporter": "python",
   "pygments_lexer": "ipython3",
   "version": "3.6.7"
  }
 },
 "nbformat": 4,
 "nbformat_minor": 2
}
