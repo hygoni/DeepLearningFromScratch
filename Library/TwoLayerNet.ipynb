{
 "cells": [
  {
   "cell_type": "code",
   "execution_count": 7,
   "metadata": {},
   "outputs": [],
   "source": [
    "from ipynb.fs.full.cost_function import *\n",
    "from ipynb.fs.full.calculus import *\n",
    "from ipynb.fs.full.activation_function import *\n",
    "from collections import OrderedDict"
   ]
  },
  {
   "cell_type": "code",
   "execution_count": 6,
   "metadata": {},
   "outputs": [],
   "source": [
    "class TwoLayerNet():\n",
    "    def __init__(input_s, output_s, hidden_s, std):\n",
    "        self.W1 = std * np.random.randn(input_s, hidden_s)\n",
    "        self.b1 = np.zeros(hidden_size)\n",
    "        self.W2 = std * np.random.randn(hidden_s, output_s)\n",
    "        self.b2 = np.zeros(output_size)\n",
    "        \n",
    "    def predict(self, X):\n",
    "        a1 = np.dot(X, self.W1) + self.b1\n",
    "        z1 = sigmoid(a1)\n",
    "        a2 = np.dot(z1, self.W2) + self.b2\n",
    "        y = np.softmax(a2)\n",
    "        return y\n",
    "        \n",
    "    def loss(self, x, test):\n",
    "        y = self.predict(x)\n",
    "        return cross_entropy_error(y, t)\n",
    "\n",
    "    def update(self, x, t, learning_rate):\n",
    "        loss = lambda w: self.loss(x, t)\n",
    "        params = {'W1' : self.W1, 'W2' : self.W2, 'b1' : self.b1, 'b2': self.b2}\n",
    "        grads = dict()\n",
    "        \n",
    "        for key in params:\n",
    "            grad[key] = numerical_gradient(loss, params[key])\n",
    "        \n",
    "        self.W1 -= learning_rate * grad['W1']\n",
    "        self.W2 -= learning_rate * grad['W2']\n",
    "        self.b1 -= learning_rate * grad['b1']\n",
    "        self.b2 -= learning_rate * grad['b2']\n",
    "        \n",
    "    def accuracy(self, x, t):\n",
    "        y = self.predict(x)\n",
    "        y = np.argmax(y, axis=1)\n",
    "        "
   ]
  }
 ],
 "metadata": {
  "kernelspec": {
   "display_name": "Python 3",
   "language": "python",
   "name": "python3"
  },
  "language_info": {
   "codemirror_mode": {
    "name": "ipython",
    "version": 3
   },
   "file_extension": ".py",
   "mimetype": "text/x-python",
   "name": "python",
   "nbconvert_exporter": "python",
   "pygments_lexer": "ipython3",
   "version": "3.6.8"
  }
 },
 "nbformat": 4,
 "nbformat_minor": 2
}
