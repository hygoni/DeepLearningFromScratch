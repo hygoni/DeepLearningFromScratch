{
 "cells": [
  {
   "cell_type": "code",
   "execution_count": 16,
   "metadata": {},
   "outputs": [],
   "source": [
    "import numpy as np\n",
    "import os, sys\n",
    "sys.path.append(os.getcwd() + './')\n",
    "from ipynb.fs.full.calculus import *\n",
    "\n",
    "def mean_squared_error(y_predict, y_test):\n",
    "    return 0.5 * np.sum((y_predict-y_test) ** 2)\n",
    "def mse(y_predict, y_test):\n",
    "    return mean_squared_error(y_predict, y_test)\n",
    "def cross_entropy_error(y_predict, y_test):\n",
    "    delta = 1e-7 #Preventing overflow\n",
    "    return -np.sum(y_test * np.log(y_predict + delta))\n",
    "def cee(y_predict, y_test):\n",
    "    return cross_entropy_error(y_predict, y_test)"
   ]
  },
  {
   "cell_type": "code",
   "execution_count": null,
   "metadata": {},
   "outputs": [],
   "source": []
  }
 ],
 "metadata": {
  "kernelspec": {
   "display_name": "Python 3",
   "language": "python",
   "name": "python3"
  },
  "language_info": {
   "codemirror_mode": {
    "name": "ipython",
    "version": 3
   },
   "file_extension": ".py",
   "mimetype": "text/x-python",
   "name": "python",
   "nbconvert_exporter": "python",
   "pygments_lexer": "ipython3",
   "version": "3.6.7"
  }
 },
 "nbformat": 4,
 "nbformat_minor": 2
}
