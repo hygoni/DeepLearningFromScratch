{
 "cells": [
  {
   "cell_type": "code",
   "execution_count": 11,
   "metadata": {},
   "outputs": [],
   "source": [
    "from ipynb.fs.full.cost_function import *\n",
    "from ipynb.fs.full.calculus import *\n",
    "from ipynb.fs.full.activation_function import *"
   ]
  },
  {
   "cell_type": "code",
   "execution_count": 12,
   "metadata": {},
   "outputs": [],
   "source": [
    "def sigmoid_grad(x):\n",
    "    return (1.0 - sigmoid(x)) * sigmoid(x)\n",
    "\n",
    "class TwoLayerNet:\n",
    "    \n",
    "    def __init__(self, input_s, output_s, hidden_s, std):\n",
    "        self.params = {}\n",
    "        self.params['W1'] = std * np.random.randn(input_s, hidden_s)\n",
    "        self.params['b1'] = np.zeros(hidden_s)\n",
    "        self.params['W2'] = std * np.random.randn(hidden_s, output_s)\n",
    "        self.params['b2'] = np.zeros(output_s)\n",
    "        \n",
    "    def predict(self, X):\n",
    "        a1 = np.dot(X, self.params['W1']) + self.params['b1']\n",
    "        z1 = sigmoid(a1)\n",
    "        a2 = np.dot(z1, self.params['W2']) + self.params['b2']\n",
    "        y = softmax(a2)\n",
    "        return y\n",
    "        \n",
    "    def loss(self, x, t):\n",
    "        y = self.predict(x)\n",
    "        return cee(y, t)\n",
    "\n",
    "    def update(self, x, t, learning_rate = 0.1):\n",
    "        grad = {}\n",
    "        for key in self.params:\n",
    "            grad[key] = numerical_gradient_2d(lambda W: self.loss(x, t), self.params[key])\n",
    "        for key in grad:\n",
    "            self.params[key] -= learning_rate * grad[key]\n",
    "    def accuracy(self, y, t):\n",
    "        y = np.argmax(y, axis=1)\n",
    "        t = np.argmax(t, axis=1)\n",
    "    \n",
    "        accuracy = np.sum(y==t) / float(y.shape[0])\n",
    "        return accuracy\n"
   ]
  },
  {
   "cell_type": "code",
   "execution_count": null,
   "metadata": {},
   "outputs": [],
   "source": []
  }
 ],
 "metadata": {
  "kernelspec": {
   "display_name": "Python 3",
   "language": "python",
   "name": "python3"
  },
  "language_info": {
   "codemirror_mode": {
    "name": "ipython",
    "version": 3
   },
   "file_extension": ".py",
   "mimetype": "text/x-python",
   "name": "python",
   "nbconvert_exporter": "python",
   "pygments_lexer": "ipython3",
   "version": "3.6.8"
  }
 },
 "nbformat": 4,
 "nbformat_minor": 2
}
