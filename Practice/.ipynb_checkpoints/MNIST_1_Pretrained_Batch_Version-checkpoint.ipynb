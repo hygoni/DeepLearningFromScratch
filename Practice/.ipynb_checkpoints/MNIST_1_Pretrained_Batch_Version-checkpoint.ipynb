{
 "cells": [
  {
   "cell_type": "markdown",
   "metadata": {},
   "source": [
    "## What is batch and why we use it?\n",
    "\n",
    "#### What is batch\n",
    "batch is a bundle of training set\n",
    "so if batch size is 100, your network will process 100 case at once.\n",
    "\n",
    "#### Why we use it\n",
    "it is faster than processing 1 case at once."
   ]
  },
  {
   "cell_type": "code",
   "execution_count": 1,
   "metadata": {},
   "outputs": [],
   "source": [
    "import os, sys, pickle\n",
    "sys.path.append(os.getcwd()+'/..')\n",
    "sys.path.append(os.getcwd()+'/../Library')\n",
    "from dataset.mnist import load_mnist\n",
    "from ipynb.fs.full.activation_function import * #you need to install ipynb package using command : pip(3) install ipynb\n",
    "from matplotlib.pyplot import imshow "
   ]
  },
  {
   "cell_type": "code",
   "execution_count": 2,
   "metadata": {},
   "outputs": [
    {
     "name": "stdout",
     "output_type": "stream",
     "text": [
      "== Shape of Training & Test set ==\n",
      "(60000, 784)\n",
      "(60000,)\n",
      "(10000, 784)\n",
      "(10000,)\n",
      "== type & shape of the data ==\n",
      "(784,) <class 'numpy.ndarray'>\n",
      "() <class 'numpy.uint8'>\n",
      "(784,) <class 'numpy.ndarray'>\n",
      "() <class 'numpy.uint8'>\n"
     ]
    }
   ],
   "source": [
    "(x_train, y_train), (x_test, y_test) = load_mnist(flatten=True, normalize=False)\n",
    "print('== Shape of Training & Test set ==')\n",
    "print(x_train.shape)\n",
    "print(y_train.shape)\n",
    "print(x_test.shape)\n",
    "print(y_test.shape)\n",
    "print('== type & shape of the data ==')\n",
    "print(x_train[0].shape, type(x_train[0]))\n",
    "print(y_train[0].shape, type(y_train[0]))\n",
    "print(x_test[0].shape, type(x_test[0]))\n",
    "print(y_test[0].shape, type(y_test[0]))\n"
   ]
  },
  {
   "cell_type": "code",
   "execution_count": 3,
   "metadata": {
    "scrolled": true
   },
   "outputs": [
    {
     "name": "stdout",
     "output_type": "stream",
     "text": [
      "5\n"
     ]
    },
    {
     "data": {
      "text/plain": [
       "<matplotlib.image.AxesImage at 0x7f055d84ca20>"
      ]
     },
     "execution_count": 3,
     "metadata": {},
     "output_type": "execute_result"
    },
    {
     "data": {
      "image/png": "[encoded data removed]",
      "text/plain": [
       "<Figure size 432x288 with 1 Axes>"
      ]
     },
     "metadata": {
      "needs_background": "light"
     },
     "output_type": "display_data"
    }
   ],
   "source": [
    "image = x_train[0]\n",
    "label = y_train[0]\n",
    "print(label)\n",
    "imshow(image.reshape(28,28))"
   ]
  },
  {
   "cell_type": "code",
   "execution_count": 4,
   "metadata": {},
   "outputs": [
    {
     "data": {
      "text/plain": [
       "['W1', 'W2', 'W3', 'b1', 'b2', 'b3']"
      ]
     },
     "execution_count": 4,
     "metadata": {},
     "output_type": "execute_result"
    }
   ],
   "source": [
    "#Initializing network\n",
    "f = open('./MNIST_1_Weights.pkl', 'rb') #read in binary\n",
    "network = pickle.load(f)\n",
    "sorted(network.keys())"
   ]
  },
  {
   "cell_type": "code",
   "execution_count": 5,
   "metadata": {},
   "outputs": [],
   "source": [
    "def predict(X):\n",
    "    keys = sorted(network.keys())\n",
    "    W1, W2, W3 = (network[idx] for idx in keys[:3])\n",
    "    b1, b2, b3 = (network[idx] for idx in keys[3:])\n",
    "\n",
    "    a1 = np.dot(X, W1) + b1\n",
    "    z1 = sigmoid(a1)\n",
    "    \n",
    "    a2 = np.dot(z1, W2) + b2\n",
    "    z2 = sigmoid(a2)\n",
    "    \n",
    "    a3 = np.dot(z2, W3) + b3\n",
    "    return softmax(a3)"
   ]
  },
  {
   "cell_type": "code",
   "execution_count": 6,
   "metadata": {},
   "outputs": [
    {
     "name": "stdout",
     "output_type": "stream",
     "text": [
      "0.129960298538208 seconds spent predicting 10000 cases\n",
      "Accuracy: 0.9207\n"
     ]
    },
    {
     "name": "stderr",
     "output_type": "stream",
     "text": [
      "ipynb.fs.full.activation_function:14: RuntimeWarning: overflow encountered in exp\n"
     ]
    }
   ],
   "source": [
    "import time\n",
    "\n",
    "accuracy = 0\n",
    "wrong_idx = list()\n",
    "batch_size = 100\n",
    "\n",
    "start_time = time.time()\n",
    "for i in range(0, len(x_test), batch_size):\n",
    "    x_batch = x_test[i:i+batch_size]\n",
    "    y_batch = predict(x_batch)\n",
    "    p = np.argmax(y_batch, axis=1)\n",
    "    accuracy += np.sum(p == y_test[i:i+batch_size])\n",
    "    wrong_idx += [i+j for j in range(len(p)) if p[j] != y_test[i:i+batch_size][j]]\n",
    "        \n",
    "now = time.time()\n",
    "print('{} seconds spent predicting {} cases'.format(now-start_time, len(x_test)))\n",
    "print('Accuracy: {}'.format(float(accuracy/len(x_test))))"
   ]
  },
  {
   "cell_type": "markdown",
   "metadata": {},
   "source": [
    "##### The execution time is dramatically decreased!"
   ]
  },
  {
   "cell_type": "code",
   "execution_count": 7,
   "metadata": {},
   "outputs": [
    {
     "name": "stdout",
     "output_type": "stream",
     "text": [
      "Answer : 6\n"
     ]
    },
    {
     "data": {
      "image/png": "[encoded data removed]",
      "text/plain": [
       "<Figure size 432x288 with 1 Axes>"
      ]
     },
     "metadata": {
      "needs_background": "light"
     },
     "output_type": "display_data"
    }
   ],
   "source": [
    "#Show test cases that my network made right answer\n",
    "from random import randint\n",
    "idx = randint(0, len(x_test)-1)\n",
    "y = predict(x_test[idx])\n",
    "imshow(x_test[idx].reshape(28,28))\n",
    "print('Answer : {}'.format(np.argmax(y)))"
   ]
  },
  {
   "cell_type": "code",
   "execution_count": 8,
   "metadata": {},
   "outputs": [
    {
     "name": "stdout",
     "output_type": "stream",
     "text": [
      "Answer : 0\n"
     ]
    },
    {
     "data": {
      "image/png": "[encoded data removed]",
      "text/plain": [
       "<Figure size 432x288 with 1 Axes>"
      ]
     },
     "metadata": {
      "needs_background": "light"
     },
     "output_type": "display_data"
    }
   ],
   "source": [
    "#Show test cases that my network made wrong answer\n",
    "idx = wrong_idx[randint(0, len(wrong_idx)-1)]\n",
    "y = predict(x_test[idx])\n",
    "imshow(x_test[idx].reshape(28, 28))\n",
    "print('Answer : {}'.format(np.argmax(y)))\n"
   ]
  }
 ],
 "metadata": {
  "kernelspec": {
   "display_name": "Python 3",
   "language": "python",
   "name": "python3"
  },
  "language_info": {
   "codemirror_mode": {
    "name": "ipython",
    "version": 3
   },
   "file_extension": ".py",
   "mimetype": "text/x-python",
   "name": "python",
   "nbconvert_exporter": "python",
   "pygments_lexer": "ipython3",
   "version": "3.6.7"
  }
 },
 "nbformat": 4,
 "nbformat_minor": 2
}
