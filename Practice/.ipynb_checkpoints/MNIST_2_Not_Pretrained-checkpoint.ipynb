{
 "cells": [
  {
   "cell_type": "code",
   "execution_count": null,
   "metadata": {},
   "outputs": [],
   "source": [
    "import sys\n",
    "import numpy as np\n",
    "import matplotlib.pyplot as plt\n",
    "from IPython.display import clear_output\n",
    "sys.path.append('../dataset')\n",
    "sys.path.append('../Library')\n",
    "from ipynb.fs.full.TwoLayerNet import *\n",
    "from mnist import *"
   ]
  },
  {
   "cell_type": "code",
   "execution_count": null,
   "metadata": {},
   "outputs": [],
   "source": [
    "(x_train, t_train),(x_test, t_test) = load_mnist(normalize=True, one_hot_label=True)\n",
    "print(x_train.shape, t_train.shape)\n",
    "print(x_test.shape, t_test.shape)"
   ]
  },
  {
   "cell_type": "code",
   "execution_count": null,
   "metadata": {},
   "outputs": [],
   "source": [
    "for_num = 1000\n",
    "train_size = x_train.shape[0]\n",
    "batch_size = 100\n",
    "learning_rate = 0.01\n",
    "\n",
    "net = TwoLayerNet(input_s=784, hidden_s=50, output_s=10, std=0.01)\n",
    "loss_graph = list()\n",
    "accuracy_graph = list()\n",
    "\n",
    "\n",
    "sample = [i for i in range(1, 101)]\n",
    "for i in range(10000):\n",
    "    \n",
    "    x_batch = x_train[sample]\n",
    "    t_batch = t_train[sample]\n",
    "    y = net.predict(x_batch)\n",
    "    \n",
    "    loss_graph.append(net.loss(x_batch, t_batch))\n",
    "    accuracy_graph.append(net.accuracy(y, t_batch))\n",
    "    net.update(x_batch, t_batch, 1)\n",
    "    if i % 5 == 0:\n",
    "        clear_output()\n",
    "        print('Original Loss : {}'.format(loss_graph[0]))\n",
    "    print('[Step {}] Loss : {}'.format(i, loss_graph[-1]))"
   ]
  },
  {
   "cell_type": "code",
   "execution_count": null,
   "metadata": {},
   "outputs": [],
   "source": [
    "x = np.arange(0, len(loss_graph), 1)\n",
    "y = loss_graph\n",
    "plt.plot(x, y)\n",
    "plt.title('Loss Graph')\n",
    "plt.show()"
   ]
  },
  {
   "cell_type": "code",
   "execution_count": null,
   "metadata": {},
   "outputs": [],
   "source": [
    "x = np.arange(0, len(accuracy_graph), 1)\n",
    "y = accuracy_graph\n",
    "plt.plot(x, y)\n",
    "plt.title('Accuracy Graph (per Batch)')\n",
    "plt.show()"
   ]
  },
  {
   "cell_type": "code",
   "execution_count": null,
   "metadata": {},
   "outputs": [],
   "source": [
    "a = 1"
   ]
  },
  {
   "cell_type": "code",
   "execution_count": null,
   "metadata": {},
   "outputs": [],
   "source": [
    "a -= 3.86108923e-07 * 0.1\n",
    "a"
   ]
  }
 ],
 "metadata": {
  "kernelspec": {
   "display_name": "Python 3",
   "language": "python",
   "name": "python3"
  },
  "language_info": {
   "codemirror_mode": {
    "name": "ipython",
    "version": 3
   },
   "file_extension": ".py",
   "mimetype": "text/x-python",
   "name": "python",
   "nbconvert_exporter": "python",
   "pygments_lexer": "ipython3",
   "version": "3.6.8"
  }
 },
 "nbformat": 4,
 "nbformat_minor": 2
}
