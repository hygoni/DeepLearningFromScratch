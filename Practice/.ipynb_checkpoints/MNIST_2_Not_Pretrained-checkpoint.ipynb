{
 "cells": [
  {
   "cell_type": "code",
   "execution_count": 1,
   "metadata": {},
   "outputs": [],
   "source": [
    "import sys\n",
    "import numpy as np\n",
    "import matplotlib.pyplot as plt\n",
    "from IPython.display import clear_output\n",
    "sys.path.append('../dataset')\n",
    "sys.path.append('../Library')\n",
    "from ipynb.fs.full.TwoLayerNet import *\n",
    "from mnist import *"
   ]
  },
  {
   "cell_type": "code",
   "execution_count": 2,
   "metadata": {},
   "outputs": [
    {
     "name": "stdout",
     "output_type": "stream",
     "text": [
      "(60000, 784) (60000, 10)\n",
      "(10000, 784) (10000, 10)\n"
     ]
    }
   ],
   "source": [
    "(x_train, t_train),(x_test, t_test) = load_mnist(normalize=True, one_hot_label=True)\n",
    "print(x_train.shape, t_train.shape)\n",
    "print(x_test.shape, t_test.shape)"
   ]
  },
  {
   "cell_type": "code",
   "execution_count": null,
   "metadata": {},
   "outputs": [
    {
     "name": "stdout",
     "output_type": "stream",
     "text": [
      "Original Loss : 6.905688782300709\n",
      "[Step 30] Loss : 6.905688782300709\n",
      "[Step 31] Loss : 6.906532800388619\n",
      "[Step 32] Loss : 6.908547417045689\n",
      "[Step 33] Loss : 6.905860257812731\n",
      "[Step 34] Loss : 6.905812384636766\n",
      "[Step 35] Loss : 6.908695761534739\n"
     ]
    }
   ],
   "source": [
    "for_num = 1000\n",
    "train_size = x_train.shape[0]\n",
    "batch_size = 100\n",
    "learning_rate = 0.01\n",
    "\n",
    "net = TwoLayerNet(input_s=784, hidden_s=50, output_s=10, std=0.01)\n",
    "loss_graph = list()\n",
    "accuracy_graph = list()\n",
    "\n",
    "for i in range(1000):\n",
    "    sample = np.random.choice(train_size, batch_size)\n",
    "    x_batch = x_train[sample]\n",
    "    t_batch = t_train[sample]\n",
    "    y = net.predict(x_batch)\n",
    "    \n",
    "    loss_graph.append(net.loss(x_batch, t_batch))\n",
    "    accuracy_graph.append(net.accuracy(y, t_batch))\n",
    "    net.update(x_batch, t_batch, 0.1)\n",
    "    if i % 10 == 0:\n",
    "        clear_output()\n",
    "        print('Original Loss : {}'.format(loss_graph[-1]))\n",
    "    print('[Step {}] Loss : {}'.format(i, loss_graph[-1]))"
   ]
  },
  {
   "cell_type": "code",
   "execution_count": null,
   "metadata": {},
   "outputs": [],
   "source": [
    "x = np.arange(0, len(loss_graph), 1)\n",
    "y = loss_graph\n",
    "plt.plot(x, y)\n",
    "plt.title('Loss Graph')\n",
    "plt.show()"
   ]
  },
  {
   "cell_type": "code",
   "execution_count": null,
   "metadata": {},
   "outputs": [],
   "source": [
    "x = np.arange(0, len(accuracy_graph), 1)\n",
    "y = accuracy_graph\n",
    "plt.plot(x, y)\n",
    "plt.title('Accuracy Graph (per Batch)')\n",
    "plt.show()"
   ]
  },
  {
   "cell_type": "code",
   "execution_count": null,
   "metadata": {},
   "outputs": [],
   "source": []
  }
 ],
 "metadata": {
  "kernelspec": {
   "display_name": "Python 3",
   "language": "python",
   "name": "python3"
  },
  "language_info": {
   "codemirror_mode": {
    "name": "ipython",
    "version": 3
   },
   "file_extension": ".py",
   "mimetype": "text/x-python",
   "name": "python",
   "nbconvert_exporter": "python",
   "pygments_lexer": "ipython3",
   "version": "3.6.8"
  }
 },
 "nbformat": 4,
 "nbformat_minor": 2
}
